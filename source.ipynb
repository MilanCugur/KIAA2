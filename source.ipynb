{
  "nbformat": 4,
  "nbformat_minor": 0,
  "metadata": {
    "colab": {
      "name": "source.ipynb",
      "version": "0.3.2",
      "provenance": [],
      "collapsed_sections": [
        "h2GP54lqv3vD",
        "YKs54CamZRKj"
      ],
      "toc_visible": true
    },
    "kernelspec": {
      "name": "python3",
      "display_name": "Python 3"
    }
  },
  "cells": [
    {
      "metadata": {
        "id": "I32lGT-2lEF9",
        "colab_type": "text"
      },
      "cell_type": "markdown",
      "source": [
        "# The length of the intervals union's "
      ]
    },
    {
      "metadata": {
        "id": "bc2WyOPAmXvt",
        "colab_type": "text"
      },
      "cell_type": "markdown",
      "source": [
        "**TASK** Given segments on a line (starting and ending positions), the task is to find its unions (as list of pairs) and length covered by these segments."
      ]
    },
    {
      "metadata": {
        "id": "Cp9iJt1Cmq7L",
        "colab_type": "text"
      },
      "cell_type": "markdown",
      "source": [
        "## Algorithm from book"
      ]
    },
    {
      "metadata": {
        "id": "e0mOD-7Fv18T",
        "colab_type": "text"
      },
      "cell_type": "markdown",
      "source": [
        "### Implementation"
      ]
    },
    {
      "metadata": {
        "id": "-Xyag4-cBUNd",
        "colab_type": "code",
        "colab": {}
      },
      "cell_type": "code",
      "source": [
        "def calculate_lenghth_v1(dots):\n",
        "  # dots - list length n of pairs (start_point, end_point)\n",
        "  points = []\n",
        "  new_points = []\n",
        "  EXCESS = 0\n",
        "  m = 0\n",
        "  \n",
        "  for dot in dots:\n",
        "    points += [(dot[0], 1), (dot[1], -1)]  # startpoint: 1, endpoint: -1\n",
        "  \n",
        "  points.sort(key=lambda x: (x[0], int(x[1]))) # First endpoint, then startpoint, if first num is the same\n",
        "  \n",
        "  for dot in points:\n",
        "    EXCESS = EXCESS + dot[1] \n",
        "    \n",
        "    if EXCESS==1 and dot[1]==1 and (m==0 or dot[0]!=new_points[-1][1]):  # when jump from 2->1 that isn't begining; (1,2) (2,4) don't want\n",
        "      m += 1\n",
        "      new_points.append([dot[0], 0])\n",
        "    \n",
        "    if EXCESS==0 and m>0:\n",
        "      new_points[-1][1] = dot[0]\n",
        "    \n",
        "  return ([(dot[0], dot[1]) for dot in new_points], sum([dot[1]-dot[0] for dot in new_points]))"
      ],
      "execution_count": 0,
      "outputs": []
    },
    {
      "metadata": {
        "id": "h2GP54lqv3vD",
        "colab_type": "text"
      },
      "cell_type": "markdown",
      "source": [
        "### Code verification"
      ]
    },
    {
      "metadata": {
        "id": "byACzr1Lio8M",
        "colab_type": "code",
        "colab": {}
      },
      "cell_type": "code",
      "source": [
        "def calculate_lenghth_v1(dots):\n",
        "  # dots - list length n of pairs (start_point, end_point)\n",
        "  points = []\n",
        "  starts = []\n",
        "  ends = []\n",
        "  MEASURE = 0\n",
        "  EXCESS = 0\n",
        "  m = 0\n",
        "  \n",
        "  for dot in dots:\n",
        "    points += [(dot[0], 1), (dot[1], -1)]  # startpoint: 1, endpoint: -1\n",
        "  \n",
        "  points.sort(key=lambda x: (x[0], int(x[1]))) # First endpoint, then startpoint, if first num is the same\n",
        "  \n",
        "  for dot in points:\n",
        "    EXCESS = EXCESS + dot[1] \n",
        "    \n",
        "    if EXCESS==1 and dot[1]==1 and (m==0 or dot[0]!=ends[-1]):  # when jump from 2->1 that isn't begining; (1,2) (2,4) don't want\n",
        "      m += 1\n",
        "      starts.append(dot[0])\n",
        "      ends.append(0)\n",
        "      #starts[-1] = dot[0]\n",
        "    \n",
        "    if EXCESS==0 and m>0:\n",
        "      ends[-1] = dot[0]\n",
        "      \n",
        "    #print(starts, '-', ends)\n",
        "    #print()\n",
        "   \n",
        "  #print(points, '\\n', starts, '\\n', ends)\n",
        "  for (start, end) in zip(starts, ends):\n",
        "    MEASURE += end-start\n",
        "    \n",
        "  return ([(start, end) for start, end in zip(starts, ends)], MEASURE)"
      ],
      "execution_count": 0,
      "outputs": []
    },
    {
      "metadata": {
        "id": "Xk8nO0a1v7J3",
        "colab_type": "text"
      },
      "cell_type": "markdown",
      "source": [
        "### Length test"
      ]
    },
    {
      "metadata": {
        "colab_type": "code",
        "outputId": "b64f12de-917d-420f-daf7-08d23505d327",
        "id": "HFGLqdeEEGbD",
        "colab": {
          "base_uri": "https://localhost:8080/",
          "height": 34
        }
      },
      "cell_type": "code",
      "source": [
        "calculate_lenghth_v1([(1,2), (1,3), (1,2)])"
      ],
      "execution_count": 2,
      "outputs": [
        {
          "output_type": "execute_result",
          "data": {
            "text/plain": [
              "([(1, 3)], 2)"
            ]
          },
          "metadata": {
            "tags": []
          },
          "execution_count": 2
        }
      ]
    },
    {
      "metadata": {
        "id": "dxNy2l_hqqgA",
        "colab_type": "code",
        "outputId": "b095ed56-dab7-4361-b27d-3041c6600a8a",
        "colab": {
          "base_uri": "https://localhost:8080/",
          "height": 34
        }
      },
      "cell_type": "code",
      "source": [
        "calculate_lenghth_v1([(1,2), (3,4), (4,5), (5.5,8), (4,4), (2,4)])"
      ],
      "execution_count": 3,
      "outputs": [
        {
          "output_type": "execute_result",
          "data": {
            "text/plain": [
              "([(1, 5), (5.5, 8)], 6.5)"
            ]
          },
          "metadata": {
            "tags": []
          },
          "execution_count": 3
        }
      ]
    },
    {
      "metadata": {
        "id": "Fj82QzIhEaZi",
        "colab_type": "text"
      },
      "cell_type": "markdown",
      "source": [
        "## My idea from lectures"
      ]
    },
    {
      "metadata": {
        "id": "pFHTPeRyZc-c",
        "colab_type": "text"
      },
      "cell_type": "markdown",
      "source": [
        "### Implementation"
      ]
    },
    {
      "metadata": {
        "id": "876Lkv0GEgeT",
        "colab_type": "code",
        "colab": {}
      },
      "cell_type": "code",
      "source": [
        "class Intervaler():\n",
        "  def __init__(self):\n",
        "    self.dots = []\n",
        "    self.n = 0\n",
        "    \n",
        "  def isempty(elf):\n",
        "    return self.n!=0\n",
        "  \n",
        "  def getn(self):\n",
        "    return self.n\n",
        " \n",
        "  def getdots(self):\n",
        "    return self.dots\n",
        "  \n",
        "  def __bsearch(self, x):  # find first index > then x\n",
        "    low = 0\n",
        "    high = self.n\n",
        "  \n",
        "    while(low!=high):\n",
        "      mid = (low+high)//2\n",
        "      if self.dots[mid][0]<=x:\n",
        "        low = mid + 1\n",
        "      else:\n",
        "        high = mid\n",
        "    return low\n",
        "  \n",
        "  def add(self, dot):\n",
        "    if self.n==0:\n",
        "      self.dots.insert(0, (dot[0], True))  # True mean (\n",
        "      self.dots.insert(1, (dot[1], False)) # False mean )\n",
        "      self.n += 2\n",
        "      return\n",
        "    \n",
        "    i = self.__bsearch(dot[0])\n",
        "    j = self.__bsearch(dot[1])\n",
        "    \n",
        "    if i==0 and j==self.n:\n",
        "      self.dots.clear()\n",
        "      self.n = 0\n",
        "      self.add(dot)\n",
        "    elif i==0:  # j!=n\n",
        "      if self.dots[j][1]==True:\n",
        "        self.dots.insert(0, (dot[0], True))\n",
        "        self.dots.insert(j+1, (dot[1], False))\n",
        "        del self.dots[1:j+1]\n",
        "        self.n = self.n + 2 - j\n",
        "      else:\n",
        "        self.dots.insert(0, (dot[0], True))\n",
        "        del self.dots[1:j+1]\n",
        "        self.n = self.n +1 - j \n",
        "    elif j==self.n:  # i!=0\n",
        "      if self.dots[i-1][1]==False:\n",
        "        self.dots.insert(i, (dot[0], True))\n",
        "        self.dots.insert(j+1, (dot[1], False))\n",
        "        del self.dots[i+1:j+1]\n",
        "        self.n = self.n + 2 - (j-i)\n",
        "      else:\n",
        "        self.dots.insert(j, (dot[1], False))\n",
        "        del self.dots[i:j]\n",
        "        self.n = self.n + 1 - (j-i)\n",
        "    else:  # i, j 'in' list\n",
        "      if self.dots[i-1][1]==False and self.dots[j][1]==True:\n",
        "        self.dots.insert(i, (dot[0], True))\n",
        "        self.dots.insert(j+1, (dot[1], False))\n",
        "        del self.dots[i+1:j+1]\n",
        "        self.n = self.n + 2 - (j-i)\n",
        "      elif self.dots[i-1][1]==True and self.dots[j][1]==True:\n",
        "        self.dots.insert(j, (dot[1], False))\n",
        "        del self.dots[i:j]\n",
        "        self.n = self.n + 1 - (j-i)\n",
        "      elif self.dots[i-1][1]==False and self.dots[j][1]==False:\n",
        "        self.dots.insert(i, (dot[0], True))\n",
        "        del self.dots[i+1:j+1]\n",
        "        self.n = self.n + 1 - (j-i)\n",
        "      else:\n",
        "        del self.dots[i:j]\n",
        "        self.n = self.n - (j-i)\n",
        "        \n",
        "  def calculate_length(self, dots):\n",
        "    for dot in dots:\n",
        "      self.add(dot)\n",
        "    new_dots = []\n",
        "    j = 0\n",
        "    for i in range(0, self.n, 2):\n",
        "      if j==0 or new_dots[j-1][1]!=self.dots[i][0]:\n",
        "        new_dots.append([self.dots[i][0], self.dots[i+1][0]])\n",
        "        j += 1\n",
        "      else:\n",
        "        new_dots[j-1][1] = self.dots[i+1][0]\n",
        "    return ([(dot[0], dot[1]) for dot in new_dots], sum([y[0]-x[0] for x, y in zip(self.dots[0::2], self.dots[1::2])]))"
      ],
      "execution_count": 0,
      "outputs": []
    },
    {
      "metadata": {
        "id": "YKs54CamZRKj",
        "colab_type": "text"
      },
      "cell_type": "markdown",
      "source": [
        "### Code verification"
      ]
    },
    {
      "metadata": {
        "id": "WuYtS5EskVIM",
        "colab_type": "code",
        "colab": {}
      },
      "cell_type": "code",
      "source": [
        "# Class in debug mode\n",
        "class Intervaler():\n",
        "  def __init__(self):\n",
        "    self.dots = []\n",
        "    self.n = 0\n",
        "    \n",
        "  def isempty(elf):\n",
        "    return self.n!=0\n",
        "  \n",
        "  def getn(self):\n",
        "    return self.n\n",
        " \n",
        "  def getdots(self):\n",
        "    return self.dots\n",
        "  \n",
        "  def printf(self):\n",
        "    print('[', end='')\n",
        "    for dot in self.dots:\n",
        "      print('(', dot[0], ')', dot[1], ')', end='')\n",
        "    print(']')\n",
        "  \n",
        "  def _bsearch(self, x):  # find first index \n",
        "    low = 0\n",
        "    high = self.n\n",
        "    if self.n != len(self.dots):\n",
        "      print('ERROR')\n",
        "  \n",
        "    while(low!=high):\n",
        "      mid = (low+high)//2\n",
        "      if self.dots[mid][0]<=x:\n",
        "        low = mid + 1\n",
        "      else:\n",
        "        high = mid\n",
        "    return low\n",
        "  \n",
        "  def add(self, dot):\n",
        "    if self.n==0:\n",
        "      print('branch_initial')\n",
        "      self.dots.insert(0, (dot[0], True))  # True mean (\n",
        "      self.dots.insert(1, (dot[1], False)) # False mean )\n",
        "      self.n += 2\n",
        "      return\n",
        "    \n",
        "    i = self._bsearch(dot[0])\n",
        "    j = self._bsearch(dot[1])\n",
        "    \n",
        "    if i==0 and j==self.n:\n",
        "      print('branch_0')\n",
        "      self.dots.clear()\n",
        "      self.n = 0\n",
        "      self.add(dot)\n",
        "    elif i==0:  # j!=n\n",
        "      if self.dots[j][1]==True:\n",
        "        print('branch_10')\n",
        "        self.dots.insert(0, (dot[0], True))\n",
        "        self.dots.insert(j+1, (dot[1], False))\n",
        "        del self.dots[1:j+1]\n",
        "        self.n = self.n + 2 - j\n",
        "      else:\n",
        "        print('branch_11')\n",
        "        self.dots.insert(0, (dot[0], True))\n",
        "        del self.dots[1:j+1]\n",
        "        self.n = self.n +1 - j \n",
        "    elif j==self.n:  # i!=0\n",
        "      if self.dots[i-1][1]==False:\n",
        "        print('branch_20')\n",
        "        self.dots.insert(i, (dot[0], True))\n",
        "        self.dots.insert(j+1, (dot[1], False))\n",
        "        del self.dots[i+1:j+1]\n",
        "        self.n = self.n + 2 - (j-i)\n",
        "      else:\n",
        "        print('branch_21')\n",
        "        self.dots.insert(j, (dot[1], False))\n",
        "        del self.dots[i:j]\n",
        "        self.n = self.n + 1 - (j-i)\n",
        "    else:  # i, j 'in' list\n",
        "      #print('FINAL', self.dots[i-1][1], ', ', self.dots[j][1])\n",
        "      if self.dots[i-1][1]==False and self.dots[j][1]==True:\n",
        "        print('branch_30')\n",
        "        self.dots.insert(i, (dot[0], True))\n",
        "        self.dots.insert(j+1, (dot[1], False))\n",
        "        del self.dots[i+1:j+1]\n",
        "        self.n = self.n + 2 - (j-i)\n",
        "      elif self.dots[i-1][1]==True and self.dots[j][1]==True:\n",
        "        print('branch_31')\n",
        "        self.dots.insert(j, (dot[1], False))\n",
        "        del self.dots[i:j]\n",
        "        self.n = self.n + 1 - (j-i)\n",
        "      elif self.dots[i-1][1]==False and self.dots[j][1]==False:\n",
        "        print('branch_32')\n",
        "        self.dots.insert(i, (dot[0], True))\n",
        "        del self.dots[i+1:j+1]\n",
        "        self.n = self.n + 1 - (j-i)\n",
        "      else:\n",
        "        print('branch_33')\n",
        "        del self.dots[i:j]\n",
        "        self.n = self.n - (j-i)"
      ],
      "execution_count": 0,
      "outputs": []
    },
    {
      "metadata": {
        "id": "U-vCLLWjZPsb",
        "colab_type": "code",
        "colab": {
          "base_uri": "https://localhost:8080/",
          "height": 34
        },
        "outputId": "85f59558-5e54-4083-ec80-9c1f66cd659e"
      },
      "cell_type": "code",
      "source": [
        "i = Intervaler()\n",
        "i.printf()"
      ],
      "execution_count": 182,
      "outputs": [
        {
          "output_type": "stream",
          "text": [
            "[]\n"
          ],
          "name": "stdout"
        }
      ]
    },
    {
      "metadata": {
        "id": "t17dSQkAcV6r",
        "colab_type": "code",
        "outputId": "1308cdaf-2777-47e9-fb20-915c78c42e26",
        "colab": {
          "base_uri": "https://localhost:8080/",
          "height": 68
        }
      },
      "cell_type": "code",
      "source": [
        "i.add((5,6))\n",
        "print(i.getdots())\n",
        "print(i.getn())"
      ],
      "execution_count": 183,
      "outputs": [
        {
          "output_type": "stream",
          "text": [
            "branch_initial\n",
            "[(5, True), (6, False)]\n",
            "2\n"
          ],
          "name": "stdout"
        }
      ]
    },
    {
      "metadata": {
        "id": "0EhFsLhwaEjq",
        "colab_type": "code",
        "colab": {
          "base_uri": "https://localhost:8080/",
          "height": 85
        },
        "outputId": "6aa9f6ac-0dc0-4993-d5cd-3d3eeec430ec"
      },
      "cell_type": "code",
      "source": [
        "i.add((4,7))\n",
        "print(i.getdots())\n",
        "print(i.getn())"
      ],
      "execution_count": 184,
      "outputs": [
        {
          "output_type": "stream",
          "text": [
            "branch_0\n",
            "branch_initial\n",
            "[(4, True), (7, False)]\n",
            "2\n"
          ],
          "name": "stdout"
        }
      ]
    },
    {
      "metadata": {
        "id": "dY7P-tVQaJgU",
        "colab_type": "code",
        "colab": {
          "base_uri": "https://localhost:8080/",
          "height": 68
        },
        "outputId": "07d0abe5-e1e8-45f0-fc23-ff0e4cd34f05"
      },
      "cell_type": "code",
      "source": [
        "i.add((3,5))\n",
        "print(i.getdots())\n",
        "print(i.getn())"
      ],
      "execution_count": 185,
      "outputs": [
        {
          "output_type": "stream",
          "text": [
            "branch_11\n",
            "[(3, True), (7, False)]\n",
            "2\n"
          ],
          "name": "stdout"
        }
      ]
    },
    {
      "metadata": {
        "id": "exlyGTQCaJT4",
        "colab_type": "code",
        "colab": {
          "base_uri": "https://localhost:8080/",
          "height": 68
        },
        "outputId": "050ab6a2-217b-4f70-b506-c9ca80891b81"
      },
      "cell_type": "code",
      "source": [
        "i.add((1,2))\n",
        "print(i.getdots())\n",
        "print(i.getn())"
      ],
      "execution_count": 186,
      "outputs": [
        {
          "output_type": "stream",
          "text": [
            "branch_10\n",
            "[(1, True), (2, False), (3, True), (7, False)]\n",
            "4\n"
          ],
          "name": "stdout"
        }
      ]
    },
    {
      "metadata": {
        "id": "rJ9r4iNhaJOB",
        "colab_type": "code",
        "colab": {
          "base_uri": "https://localhost:8080/",
          "height": 68
        },
        "outputId": "807cb3af-7213-42db-d385-167f2ba6721a"
      },
      "cell_type": "code",
      "source": [
        "i.add((0, 2.5))\n",
        "print(i.getdots())\n",
        "print(i.getn())"
      ],
      "execution_count": 187,
      "outputs": [
        {
          "output_type": "stream",
          "text": [
            "branch_10\n",
            "[(0, True), (2.5, False), (3, True), (7, False)]\n",
            "4\n"
          ],
          "name": "stdout"
        }
      ]
    },
    {
      "metadata": {
        "id": "ipw1bLexaJH0",
        "colab_type": "code",
        "colab": {
          "base_uri": "https://localhost:8080/",
          "height": 68
        },
        "outputId": "fa7eaa15-6b46-4d66-b129-b885c014d1c8"
      },
      "cell_type": "code",
      "source": [
        "i.add((2.8, 8))\n",
        "print(i.getdots())\n",
        "print(i.getn())"
      ],
      "execution_count": 188,
      "outputs": [
        {
          "output_type": "stream",
          "text": [
            "branch_20\n",
            "[(0, True), (2.5, False), (2.8, True), (8, False)]\n",
            "4\n"
          ],
          "name": "stdout"
        }
      ]
    },
    {
      "metadata": {
        "id": "vx6XftiNaI7E",
        "colab_type": "code",
        "colab": {
          "base_uri": "https://localhost:8080/",
          "height": 68
        },
        "outputId": "8516d798-857f-4997-dc3c-f35d25c37db5"
      },
      "cell_type": "code",
      "source": [
        "i.add((1,9))\n",
        "print(i.getdots())\n",
        "print(i.getn())"
      ],
      "execution_count": 189,
      "outputs": [
        {
          "output_type": "stream",
          "text": [
            "branch_21\n",
            "[(0, True), (9, False)]\n",
            "2\n"
          ],
          "name": "stdout"
        }
      ]
    },
    {
      "metadata": {
        "id": "WEV50tDgaItF",
        "colab_type": "code",
        "colab": {
          "base_uri": "https://localhost:8080/",
          "height": 68
        },
        "outputId": "9b3a4e47-f67e-47a5-8481-aa9e27fdaa2f"
      },
      "cell_type": "code",
      "source": [
        "i.add((-4,-2))\n",
        "print(i.getdots())\n",
        "print(i.getn())"
      ],
      "execution_count": 190,
      "outputs": [
        {
          "output_type": "stream",
          "text": [
            "branch_10\n",
            "[(-4, True), (-2, False), (0, True), (9, False)]\n",
            "4\n"
          ],
          "name": "stdout"
        }
      ]
    },
    {
      "metadata": {
        "id": "h7gmxMsefKBX",
        "colab_type": "code",
        "colab": {
          "base_uri": "https://localhost:8080/",
          "height": 68
        },
        "outputId": "8d54dfac-fad3-4b61-9374-194361c7f0e7"
      },
      "cell_type": "code",
      "source": [
        "i.add((-1, -0.5))\n",
        "print(i.getdots())\n",
        "print(i.getn())"
      ],
      "execution_count": 191,
      "outputs": [
        {
          "output_type": "stream",
          "text": [
            "branch_30\n",
            "[(-4, True), (-2, False), (-1, True), (-0.5, False), (0, True), (9, False)]\n",
            "6\n"
          ],
          "name": "stdout"
        }
      ]
    },
    {
      "metadata": {
        "id": "TDlabvOcfJ7w",
        "colab_type": "code",
        "colab": {
          "base_uri": "https://localhost:8080/",
          "height": 68
        },
        "outputId": "6ac90ae3-09fc-4075-cfbf-148ebe1d915c"
      },
      "cell_type": "code",
      "source": [
        "i.add((-3, -0.3))\n",
        "print(i.getdots())\n",
        "print(i.getn())"
      ],
      "execution_count": 192,
      "outputs": [
        {
          "output_type": "stream",
          "text": [
            "branch_31\n",
            "[(-4, True), (-0.3, False), (0, True), (9, False)]\n",
            "4\n"
          ],
          "name": "stdout"
        }
      ]
    },
    {
      "metadata": {
        "id": "pgszL1szfJ3B",
        "colab_type": "code",
        "colab": {
          "base_uri": "https://localhost:8080/",
          "height": 68
        },
        "outputId": "85ee4113-8fe9-4129-94ff-42c98cb582ff"
      },
      "cell_type": "code",
      "source": [
        "i.add((-0.2, 5))\n",
        "print(i.getdots())\n",
        "print(i.getn())"
      ],
      "execution_count": 193,
      "outputs": [
        {
          "output_type": "stream",
          "text": [
            "branch_32\n",
            "[(-4, True), (-0.3, False), (-0.2, True), (9, False)]\n",
            "4\n"
          ],
          "name": "stdout"
        }
      ]
    },
    {
      "metadata": {
        "id": "xi3lRDbAfJyH",
        "colab_type": "code",
        "colab": {
          "base_uri": "https://localhost:8080/",
          "height": 68
        },
        "outputId": "5211747b-e225-4032-a31a-c52db67a1a23"
      },
      "cell_type": "code",
      "source": [
        "i.add((-3, 8))\n",
        "print(i.getdots())\n",
        "print(i.getn())"
      ],
      "execution_count": 194,
      "outputs": [
        {
          "output_type": "stream",
          "text": [
            "branch_33\n",
            "[(-4, True), (9, False)]\n",
            "2\n"
          ],
          "name": "stdout"
        }
      ]
    },
    {
      "metadata": {
        "id": "kArV76VgfJln",
        "colab_type": "code",
        "colab": {
          "base_uri": "https://localhost:8080/",
          "height": 68
        },
        "outputId": "a166d402-300b-4b92-eaf0-acef67cb21fb"
      },
      "cell_type": "code",
      "source": [
        "i.add((10, 15))\n",
        "print(i.getdots())\n",
        "print(i.getn())"
      ],
      "execution_count": 195,
      "outputs": [
        {
          "output_type": "stream",
          "text": [
            "branch_20\n",
            "[(-4, True), (9, False), (10, True), (15, False)]\n",
            "4\n"
          ],
          "name": "stdout"
        }
      ]
    },
    {
      "metadata": {
        "id": "IwD3xZ3VkFmv",
        "colab_type": "code",
        "colab": {
          "base_uri": "https://localhost:8080/",
          "height": 68
        },
        "outputId": "609c23b8-ddd4-4d47-a7df-78322d055b5b"
      },
      "cell_type": "code",
      "source": [
        "i.add((-15,-10))\n",
        "print(i.getdots())\n",
        "print(i.getn())"
      ],
      "execution_count": 196,
      "outputs": [
        {
          "output_type": "stream",
          "text": [
            "branch_10\n",
            "[(-15, True), (-10, False), (-4, True), (9, False), (10, True), (15, False)]\n",
            "6\n"
          ],
          "name": "stdout"
        }
      ]
    },
    {
      "metadata": {
        "id": "zjAXaQPskOMe",
        "colab_type": "code",
        "colab": {
          "base_uri": "https://localhost:8080/",
          "height": 85
        },
        "outputId": "0ff19776-3c50-415a-9684-f104534f0270"
      },
      "cell_type": "code",
      "source": [
        "i.add((-20,20))\n",
        "print(i.getdots())\n",
        "print(i.getn())"
      ],
      "execution_count": 197,
      "outputs": [
        {
          "output_type": "stream",
          "text": [
            "branch_0\n",
            "branch_initial\n",
            "[(-20, True), (20, False)]\n",
            "2\n"
          ],
          "name": "stdout"
        }
      ]
    },
    {
      "metadata": {
        "id": "u0r6MO90lcZo",
        "colab_type": "text"
      },
      "cell_type": "markdown",
      "source": [
        "### Length test"
      ]
    },
    {
      "metadata": {
        "id": "qVcxl1uule3x",
        "colab_type": "code",
        "colab": {
          "base_uri": "https://localhost:8080/",
          "height": 34
        },
        "outputId": "6eb3b723-cc4f-49e5-d149-05771548da24"
      },
      "cell_type": "code",
      "source": [
        "i = Intervaler()\n",
        "i.calculate_length([(1,2), (1,3), (1,2)])"
      ],
      "execution_count": 5,
      "outputs": [
        {
          "output_type": "execute_result",
          "data": {
            "text/plain": [
              "([(1, 3)], 2)"
            ]
          },
          "metadata": {
            "tags": []
          },
          "execution_count": 5
        }
      ]
    },
    {
      "metadata": {
        "id": "FeM7Vww1npfT",
        "colab_type": "code",
        "colab": {
          "base_uri": "https://localhost:8080/",
          "height": 34
        },
        "outputId": "5c96aaeb-10a2-4680-c03f-97c10a3b4449"
      },
      "cell_type": "code",
      "source": [
        "i = Intervaler()\n",
        "i.calculate_length([(1,2), (3,4), (4,5), (5.5,8), (4,4), (2,4)])"
      ],
      "execution_count": 6,
      "outputs": [
        {
          "output_type": "execute_result",
          "data": {
            "text/plain": [
              "([(1, 5), (5.5, 8)], 6.5)"
            ]
          },
          "metadata": {
            "tags": []
          },
          "execution_count": 6
        }
      ]
    },
    {
      "metadata": {
        "id": "4dUYjqi6EhpS",
        "colab_type": "text"
      },
      "cell_type": "markdown",
      "source": [
        "## Time compare"
      ]
    },
    {
      "metadata": {
        "id": "ErSsnLdaxI7C",
        "colab_type": "code",
        "colab": {}
      },
      "cell_type": "code",
      "source": [
        "import random\n",
        "import timeit\n",
        "from matplotlib import pyplot as plt\n",
        "\n",
        "RANGE_MIN = -10\n",
        "RANGE_MAX = 10\n",
        "EPS = 5"
      ],
      "execution_count": 0,
      "outputs": []
    },
    {
      "metadata": {
        "id": "TXfzIq09Elbe",
        "colab_type": "text"
      },
      "cell_type": "markdown",
      "source": [
        "### Static use"
      ]
    },
    {
      "metadata": {
        "id": "AZTzea3Myf8k",
        "colab_type": "text"
      },
      "cell_type": "markdown",
      "source": [
        "#### n = 10"
      ]
    },
    {
      "metadata": {
        "id": "UbOBgxyCEkI2",
        "colab_type": "code",
        "colab": {
          "base_uri": "https://localhost:8080/",
          "height": 54
        },
        "outputId": "f1c86bba-daa7-404a-c599-0dd6c158dc12"
      },
      "cell_type": "code",
      "source": [
        "n = 10\n",
        "dots = []\n",
        "for i in range(n):\n",
        "  dot = random.uniform(RANGE_MIN, RANGE_MAX)\n",
        "  dots.append((dot, dot+random.uniform(0, EPS)))\n",
        "print(dots)"
      ],
      "execution_count": 281,
      "outputs": [
        {
          "output_type": "stream",
          "text": [
            "[(-1.8139565584510127, -0.7881526082570733), (0.6689607675939477, 5.496648640799032), (-3.0356602947995732, -1.1799425387848324), (0.8957458962138336, 4.780921849397935), (6.539459434044318, 10.82532200575066), (-3.5141465940414367, 0.773163467318617), (4.122979622039919, 4.750978976084765), (9.597561725829443, 13.655240940841722), (7.4767657018778735, 11.703982392049538), (9.188120310351792, 11.323958565347427)]\n"
          ],
          "name": "stdout"
        }
      ]
    },
    {
      "metadata": {
        "id": "mfmKeMO6Eny1",
        "colab_type": "code",
        "colab": {
          "base_uri": "https://localhost:8080/",
          "height": 68
        },
        "outputId": "0e5483bf-dc1f-45a2-d2ad-8079d8af5825"
      },
      "cell_type": "code",
      "source": [
        "%%time\n",
        "print(calculate_lenghth_v1(dots))"
      ],
      "execution_count": 286,
      "outputs": [
        {
          "output_type": "stream",
          "text": [
            "([(-3.5141465940414367, 5.496648640799032), (6.539459434044318, 13.655240940841722)], 16.126576741637873)\n",
            "CPU times: user 1.3 ms, sys: 52 µs, total: 1.36 ms\n",
            "Wall time: 1.14 ms\n"
          ],
          "name": "stdout"
        }
      ]
    },
    {
      "metadata": {
        "id": "n4MTuGyIEnpI",
        "colab_type": "code",
        "colab": {
          "base_uri": "https://localhost:8080/",
          "height": 68
        },
        "outputId": "e9889a96-fad8-4a23-e30f-c782f5e100a7"
      },
      "cell_type": "code",
      "source": [
        "%%time\n",
        "i = Intervaler()\n",
        "print(i.calculate_length(dots))"
      ],
      "execution_count": 285,
      "outputs": [
        {
          "output_type": "stream",
          "text": [
            "([(-3.5141465940414367, 5.496648640799032), (6.539459434044318, 13.655240940841722)], 16.126576741637873)\n",
            "CPU times: user 539 µs, sys: 935 µs, total: 1.47 ms\n",
            "Wall time: 1.06 ms\n"
          ],
          "name": "stdout"
        }
      ]
    },
    {
      "metadata": {
        "id": "0ckAu2ULyjwK",
        "colab_type": "text"
      },
      "cell_type": "markdown",
      "source": [
        "#### n = 100"
      ]
    },
    {
      "metadata": {
        "id": "X8J6Sgcdylam",
        "colab_type": "code",
        "colab": {
          "base_uri": "https://localhost:8080/",
          "height": 54
        },
        "outputId": "52f7073d-0173-40a1-f4c6-67fec79875e0"
      },
      "cell_type": "code",
      "source": [
        "n = 100\n",
        "dots = []\n",
        "for i in range(n):\n",
        "  dot = random.uniform(RANGE_MIN, RANGE_MAX)\n",
        "  dots.append((dot, dot+random.uniform(0, EPS)))\n",
        "print(dots)"
      ],
      "execution_count": 287,
      "outputs": [
        {
          "output_type": "stream",
          "text": [
            "[(-3.8878744351692625, -1.5088694138914986), (-8.448143818286379, -6.808071677878435), (-0.4089241741843992, 1.8589968672419408), (-7.1746419559667896, -4.195597025472081), (-0.8315590916926947, -0.6710973150224093), (8.484111009929507, 12.303539070796408), (5.268590922701609, 7.239098605391311), (-6.843760423778715, -2.191446036196316), (4.050288206947064, 4.26691175798207), (-3.7825437667504165, -2.160527766728705), (-5.792382691294311, -4.063793331871723), (-5.803728443543865, -5.705300306212901), (9.730315279892022, 9.754352739640066), (1.5002045882538333, 2.1887504460731604), (0.7014172666704805, 1.8058068175020632), (-0.9398455634752274, 3.806077790628569), (3.601653115405476, 7.787580428134831), (3.7213591168422173, 7.8018751263739), (-3.374102360119391, -3.37146179462847), (7.358219721877383, 11.58214494638555), (-2.1688759769005683, 0.7393150829014816), (-2.4974521978192588, 0.8192101350115482), (-5.995303019949498, -3.12810330088334), (-6.563683155518916, -2.2254568117894626), (-5.5558375557531825, -2.6657196018508738), (6.781890516212709, 11.143729677369292), (-5.131232057302193, -2.4281833891362825), (-3.529970453813407, -0.5875443879650764), (-5.840325601849113, -5.570415560163846), (-3.9713791266956644, -0.43611171388302905), (6.719808594075801, 8.20366095698609), (-4.997104549650418, -0.5353399579493363), (-0.47673690400573854, 1.3418352435470093), (-0.9580518233806607, 2.6166958723072864), (-7.9307860625146915, -2.9714460438504666), (-6.412156286189344, -4.739175501072063), (4.695413906824626, 6.069633530358134), (-2.2393353986776887, -1.445694719117453), (-7.281347428194125, -4.193928953855789), (-9.34900625406653, -7.890177508135713), (-7.958858326417748, -4.561558621360178), (8.220388691706361, 12.123237744245282), (-7.428374927989301, -5.648711406584628), (-6.8613949593024115, -5.188121887849473), (5.821093622811389, 10.481527768761042), (7.403464844464736, 8.042344073779152), (2.667036652096595, 5.999767647539523), (9.483895012607334, 9.888258857526786), (-1.9065350822931837, 2.2845444000413417), (-6.510681301848951, -2.4508282844275175), (-1.7373951108301995, 0.30109231391431646), (1.6109270081676357, 6.253500996417636), (-7.242589321984985, -3.112026442049636), (-6.2168428856908475, -3.9729057402104035), (-1.6707395290610894, -1.573440307060714), (0.0853370694666662, 0.38646385781062176), (-1.1682062868398049, 2.59697744410831), (6.1683229601571306, 6.298040074583556), (1.1530771255444527, 2.2396465016177016), (-0.14105567693612286, 1.5924924239265819), (2.1532578228477846, 2.403306906310014), (-4.377564538099041, -0.3877973834058004), (-1.2028136503701496, 2.9668691818396296), (6.479951084552905, 11.0577441082933), (6.938483641737086, 11.090700029474982), (-4.137432879008189, -1.705157804680998), (9.971503250484037, 12.734144051410604), (-8.33198006954171, -6.050448875210433), (5.713736081905532, 7.1993792266782535), (0.7428780992750674, 3.386476124092777), (3.134063965104515, 5.25672463043556), (5.234660692975197, 7.003097037486452), (7.6673937718099126, 12.470228801073421), (-4.62511511553701, -0.4033040252313782), (6.479873751925005, 8.270757600225652), (7.34530369264856, 9.60286472839395), (7.868385786431983, 11.52389227313703), (-8.00805618176331, -4.149059795067344), (6.9887277169196125, 8.0232768725311), (8.503045334865412, 11.26342062947368), (2.8459641304317795, 7.567794868112165), (-4.024342765422326, -0.810569609219403), (-0.16434279993734968, 3.5371482719801257), (-6.526642612063311, -2.415924494690251), (8.099585378258197, 9.23360166349636), (5.975108457071023, 7.711624571349124), (-6.253642874580912, -1.3276439578597223), (9.587627301493743, 11.218513725396267), (2.44521266073631, 6.514950928402691), (3.1498523498625186, 4.8867257117360525), (6.126103698894603, 6.589623662842193), (5.560822157597425, 6.9284698915806935), (-8.447686682990906, -7.700958771242408), (-1.7838355941777664, -0.6994043496470121), (6.99424124262147, 9.400909946474753), (-5.986366331105472, -1.1101278239448673), (-6.236525314156889, -3.5044289957159496), (-1.2043116784920311, 1.0745111008224733), (-9.600182728674572, -7.27253790007425), (1.7356476684056155, 6.370477801214069)]\n"
          ],
          "name": "stdout"
        }
      ]
    },
    {
      "metadata": {
        "id": "MEUwKfngyr-x",
        "colab_type": "code",
        "colab": {
          "base_uri": "https://localhost:8080/",
          "height": 68
        },
        "outputId": "e3b6bdf8-0cf8-419b-8aa3-791fd7c41fc7"
      },
      "cell_type": "code",
      "source": [
        "%%time\n",
        "print(calculate_lenghth_v1(dots))"
      ],
      "execution_count": 288,
      "outputs": [
        {
          "output_type": "stream",
          "text": [
            "([(-9.600182728674572, 12.734144051410604)], 22.334326780085178)\n",
            "CPU times: user 1.77 ms, sys: 0 ns, total: 1.77 ms\n",
            "Wall time: 2.77 ms\n"
          ],
          "name": "stdout"
        }
      ]
    },
    {
      "metadata": {
        "id": "mtU0YYn1yu1U",
        "colab_type": "code",
        "colab": {
          "base_uri": "https://localhost:8080/",
          "height": 68
        },
        "outputId": "c76a7590-1723-48b5-bfb5-91e8dca40d96"
      },
      "cell_type": "code",
      "source": [
        "%%time\n",
        "i = Intervaler()\n",
        "print(i.calculate_length(dots))"
      ],
      "execution_count": 289,
      "outputs": [
        {
          "output_type": "stream",
          "text": [
            "([(-9.600182728674572, 12.734144051410604)], 22.334326780085178)\n",
            "CPU times: user 1.86 ms, sys: 150 µs, total: 2.01 ms\n",
            "Wall time: 3.1 ms\n"
          ],
          "name": "stdout"
        }
      ]
    },
    {
      "metadata": {
        "id": "1OfDXzpKy0Xk",
        "colab_type": "text"
      },
      "cell_type": "markdown",
      "source": [
        "#### n = 10_000"
      ]
    },
    {
      "metadata": {
        "id": "a7rqWNU6yza4",
        "colab_type": "code",
        "colab": {}
      },
      "cell_type": "code",
      "source": [
        "n = 10_000\n",
        "dots = []\n",
        "for i in range(n):\n",
        "  dot = random.uniform(RANGE_MIN, RANGE_MAX)\n",
        "  dots.append((dot, dot+random.uniform(0, EPS)))\n",
        "#print(dots)"
      ],
      "execution_count": 0,
      "outputs": []
    },
    {
      "metadata": {
        "id": "9YCvbojEy85o",
        "colab_type": "code",
        "colab": {
          "base_uri": "https://localhost:8080/",
          "height": 68
        },
        "outputId": "80fa5689-7f81-4550-f344-b3b56db25a87"
      },
      "cell_type": "code",
      "source": [
        "%%time\n",
        "_, t = calculate_lenghth_v1(dots)\n",
        "print(t)"
      ],
      "execution_count": 292,
      "outputs": [
        {
          "output_type": "stream",
          "text": [
            "24.75328857421183\n",
            "CPU times: user 29.2 ms, sys: 5.86 ms, total: 35.1 ms\n",
            "Wall time: 34.8 ms\n"
          ],
          "name": "stdout"
        }
      ]
    },
    {
      "metadata": {
        "id": "H_v75IS5zCEt",
        "colab_type": "code",
        "colab": {
          "base_uri": "https://localhost:8080/",
          "height": 68
        },
        "outputId": "50dc1653-5500-4122-c195-13df497684e5"
      },
      "cell_type": "code",
      "source": [
        "%%time\n",
        "i = Intervaler()\n",
        "_, t = i.calculate_length(dots)\n",
        "print(t)"
      ],
      "execution_count": 293,
      "outputs": [
        {
          "output_type": "stream",
          "text": [
            "24.75328857421183\n",
            "CPU times: user 31.2 ms, sys: 1.17 ms, total: 32.3 ms\n",
            "Wall time: 32.7 ms\n"
          ],
          "name": "stdout"
        }
      ]
    },
    {
      "metadata": {
        "id": "5FRqr2790Dm8",
        "colab_type": "text"
      },
      "cell_type": "markdown",
      "source": [
        "#### n = 1_000_000"
      ]
    },
    {
      "metadata": {
        "id": "n7le-U_a0GTa",
        "colab_type": "code",
        "colab": {}
      },
      "cell_type": "code",
      "source": [
        "n = 1_000_000\n",
        "dots = []\n",
        "for i in range(n):\n",
        "  dot = random.uniform(RANGE_MIN, RANGE_MAX)\n",
        "  dots.append((dot, dot+random.uniform(0, EPS)))\n",
        "#print(dots)"
      ],
      "execution_count": 0,
      "outputs": []
    },
    {
      "metadata": {
        "id": "5g6GJC_p0KkS",
        "colab_type": "code",
        "colab": {
          "base_uri": "https://localhost:8080/",
          "height": 68
        },
        "outputId": "5ea09839-9235-4784-c86d-4a47284472d7"
      },
      "cell_type": "code",
      "source": [
        "%%time\n",
        "_, t = calculate_lenghth_v1(dots)\n",
        "print(t)"
      ],
      "execution_count": 295,
      "outputs": [
        {
          "output_type": "stream",
          "text": [
            "24.9921806733814\n",
            "CPU times: user 6.22 s, sys: 239 ms, total: 6.46 s\n",
            "Wall time: 6.45 s\n"
          ],
          "name": "stdout"
        }
      ]
    },
    {
      "metadata": {
        "id": "H8kTZKUY0OVR",
        "colab_type": "code",
        "colab": {
          "base_uri": "https://localhost:8080/",
          "height": 68
        },
        "outputId": "49040d63-df62-4032-a60f-748acd51b37c"
      },
      "cell_type": "code",
      "source": [
        "%%time\n",
        "i = Intervaler()\n",
        "_, t = i.calculate_length(dots)\n",
        "print(t)"
      ],
      "execution_count": 296,
      "outputs": [
        {
          "output_type": "stream",
          "text": [
            "24.9921806733814\n",
            "CPU times: user 2.67 s, sys: 0 ns, total: 2.67 s\n",
            "Wall time: 2.67 s\n"
          ],
          "name": "stdout"
        }
      ]
    },
    {
      "metadata": {
        "id": "lmmkpAW60tjv",
        "colab_type": "text"
      },
      "cell_type": "markdown",
      "source": [
        "#### Visualise"
      ]
    },
    {
      "metadata": {
        "id": "ttySKC1P0wN6",
        "colab_type": "code",
        "colab": {}
      },
      "cell_type": "code",
      "source": [
        "Ns = [1, 10, 100, 1000, 10_000, 100_000, 1_000_000, 10_000_000]\n",
        "time_v1 = []\n",
        "time_v2 = []\n",
        "time_sort = []\n",
        "dots = []\n",
        "\n",
        "for n in Ns:\n",
        "  for i in range(n):\n",
        "    dot = random.uniform(RANGE_MIN, RANGE_MAX)\n",
        "    dots.append((dot, dot+random.uniform(0, EPS)))\n",
        "    \n",
        "  start = timeit.default_timer()\n",
        "  _, t = calculate_lenghth_v1(dots)\n",
        "  stop = timeit.default_timer()\n",
        "  time_v1.append(stop-start)\n",
        "  \n",
        "  i = Intervaler()\n",
        "  start = timeit.default_timer()\n",
        "  _, t = i.calculate_length(dots)\n",
        "  stop = timeit.default_timer()\n",
        "  time_v2.append(stop-start)\n",
        "  \n",
        "  start = timeit.default_timer()\n",
        "  dots.sort(key=lambda x: (x[0], int(x[1])))\n",
        "  stop = timeit.default_timer()\n",
        "  time_sort.append(stop-start)\n",
        "  \n",
        "  del i\n",
        "  dots.clear()"
      ],
      "execution_count": 0,
      "outputs": []
    },
    {
      "metadata": {
        "id": "jlXgU1AY2zFq",
        "colab_type": "code",
        "colab": {
          "base_uri": "https://localhost:8080/",
          "height": 376
        },
        "outputId": "4c720106-6b9b-422f-8191-b176ab5d1986"
      },
      "cell_type": "code",
      "source": [
        "plt.title('Number of dots/time')\n",
        "plt.xlabel('No of dots')\n",
        "plt.ylabel('time')\n",
        "plt.plot(Ns, time_v1, color='red', label='Book version')\n",
        "plt.plot(Ns, time_v2, color='orange', label='My version')\n",
        "plt.plot(Ns, time_sort, color='blue', label='sort time')\n",
        "plt.legend()\n",
        "plt.show()"
      ],
      "execution_count": 315,
      "outputs": [
        {
          "output_type": "display_data",
          "data": {
            "image/png": "[encoded data removed]",
            "text/plain": [
              "<matplotlib.figure.Figure at 0x7f1574f049b0>"
            ]
          },
          "metadata": {
            "tags": []
          }
        }
      ]
    },
    {
      "metadata": {
        "id": "TgULRrfE3OHV",
        "colab_type": "code",
        "colab": {
          "base_uri": "https://localhost:8080/",
          "height": 969
        },
        "outputId": "0252db46-f62d-4c12-fa93-30abb9c67401"
      },
      "cell_type": "code",
      "source": [
        "for (i, n) in enumerate(Ns):\n",
        "  print('n: ', n)\n",
        "  print('n*log(n): ', n*np.log(n))\n",
        "  start = timeit.default_timer()\n",
        "  for j in range(int(n*np.log(n))):\n",
        "    j += 1\n",
        "  stop = timeit.default_timer()\n",
        "  print('O(n*log(n)): ', stop-start)\n",
        "  print('time_sort[n]: ', time_sort[i])\n",
        "  print('time_v1[n]: ', time_v1[i])\n",
        "  print('time_v2[n]: ', time_v2[i], '\\n')"
      ],
      "execution_count": 316,
      "outputs": [
        {
          "output_type": "stream",
          "text": [
            "n:  1\n",
            "n*log(n):  0.0\n",
            "O(n*log(n)):  6.976700024097227e-05\n",
            "time_sort[n]:  3.2059997465694323e-06\n",
            "time_v1[n]:  1.4568999176844954e-05\n",
            "time_v2[n]:  1.446599890186917e-05 \n",
            "\n",
            "n:  10\n",
            "n*log(n):  23.02585092994046\n",
            "O(n*log(n)):  4.4641999920713715e-05\n",
            "time_sort[n]:  5.578000127570704e-06\n",
            "time_v1[n]:  2.373500137764495e-05\n",
            "time_v2[n]:  4.894700032309629e-05 \n",
            "\n",
            "n:  100\n",
            "n*log(n):  460.51701859880916\n",
            "O(n*log(n)):  9.177099855151027e-05\n",
            "time_sort[n]:  5.351999971026089e-05\n",
            "time_v1[n]:  0.00019484400036162697\n",
            "time_v2[n]:  0.00028338099946267903 \n",
            "\n",
            "n:  1000\n",
            "n*log(n):  6907.755278982137\n",
            "O(n*log(n)):  0.0008550279999326449\n",
            "time_sort[n]:  0.0007236920009745518\n",
            "time_v1[n]:  0.002181826999731129\n",
            "time_v2[n]:  0.0028198280015203636 \n",
            "\n",
            "n:  10000\n",
            "n*log(n):  92103.40371976183\n",
            "O(n*log(n)):  0.010754208000435028\n",
            "time_sort[n]:  0.010382888000094681\n",
            "time_v1[n]:  0.03188218200011761\n",
            "time_v2[n]:  0.027472295998450136 \n",
            "\n",
            "n:  100000\n",
            "n*log(n):  1151292.546497023\n",
            "O(n*log(n)):  0.13416586600033042\n",
            "time_sort[n]:  0.1675680160005868\n",
            "time_v1[n]:  0.49564926200037007\n",
            "time_v2[n]:  0.26437978300054965 \n",
            "\n",
            "n:  1000000\n",
            "n*log(n):  13815510.557964273\n",
            "O(n*log(n)):  1.625831339000797\n",
            "time_sort[n]:  2.809510606999538\n",
            "time_v1[n]:  7.299333574999764\n",
            "time_v2[n]:  2.626617318001081 \n",
            "\n",
            "n:  10000000\n",
            "n*log(n):  161180956.5095832\n",
            "O(n*log(n)):  18.530401750998863\n",
            "time_sort[n]:  41.64146541699847\n",
            "time_v1[n]:  104.83509475900064\n",
            "time_v2[n]:  26.128762385998925 \n",
            "\n"
          ],
          "name": "stdout"
        }
      ]
    },
    {
      "metadata": {
        "id": "GVgh9AQAEobx",
        "colab_type": "text"
      },
      "cell_type": "markdown",
      "source": [
        "### Dinamic use"
      ]
    },
    {
      "metadata": {
        "id": "XbOGznQqEpYi",
        "colab_type": "code",
        "colab": {}
      },
      "cell_type": "code",
      "source": [
        "# Special benefits of my methods in online version of this problem\n",
        "# Real time application etc.\n",
        "# Imagine my dots come through time, and in every moment I need to now live unions of segments (coverage) and it length\n",
        "# In v1, I need to sort my array for every new dot (ok, I can modify this, just binary insert :))"
      ],
      "execution_count": 0,
      "outputs": []
    },
    {
      "metadata": {
        "id": "Kxz3YxmO6eTP",
        "colab_type": "text"
      },
      "cell_type": "markdown",
      "source": [
        "# DOCUMENTATION"
      ]
    },
    {
      "metadata": {
        "id": "usi6-90OC-cd",
        "colab_type": "code",
        "colab": {
          "base_uri": "https://localhost:8080/",
          "height": 34
        },
        "outputId": "2a8de769-7337-4be9-97fa-8196e8e3b9cb"
      },
      "cell_type": "code",
      "source": [
        "import gc\n",
        "gc.collect()"
      ],
      "execution_count": 320,
      "outputs": [
        {
          "output_type": "execute_result",
          "data": {
            "text/plain": [
              "5630"
            ]
          },
          "metadata": {
            "tags": []
          },
          "execution_count": 320
        }
      ]
    },
    {
      "metadata": {
        "id": "WILFw5Eu3PGP",
        "colab_type": "code",
        "colab": {}
      },
      "cell_type": "code",
      "source": [
        "Ns = [1, 10, 100, 1000, 10_000, 100_000, 1_000_000, 10_000_000]\n",
        "time_v1 = []\n",
        "time_v2 = []\n",
        "time_sort = []\n",
        "dots = []\n",
        "\n",
        "for n in Ns:\n",
        "  for i in range(n):\n",
        "    dot = random.uniform(RANGE_MIN, RANGE_MAX)\n",
        "    dots.append((dot, dot+random.uniform(0, EPS)))\n",
        "    \n",
        "  i = Intervaler()\n",
        "  start = timeit.default_timer()\n",
        "  _, t = i.calculate_length(dots)\n",
        "  stop = timeit.default_timer()\n",
        "  time_v2.append(stop-start)\n",
        "  \n",
        "  \n",
        "  start = timeit.default_timer()\n",
        "  _, t = calculate_lenghth_v1(dots)\n",
        "  stop = timeit.default_timer()\n",
        "  time_v1.append(stop-start)\n",
        "  \n",
        "  start = timeit.default_timer()\n",
        "  dots.sort(key=lambda x: (x[0], int(x[1])))\n",
        "  stop = timeit.default_timer()\n",
        "  time_sort.append(stop-start)\n",
        "  \n",
        "  del i\n",
        "  dots.clear()"
      ],
      "execution_count": 0,
      "outputs": []
    },
    {
      "metadata": {
        "id": "pFi2ABsF6jxg",
        "colab_type": "code",
        "colab": {
          "base_uri": "https://localhost:8080/",
          "height": 376
        },
        "outputId": "eaeb3daa-b5ad-4aba-d64a-2965db74f190"
      },
      "cell_type": "code",
      "source": [
        "plt.title('Number of dots/time')\n",
        "plt.xlabel('No of dots')\n",
        "plt.ylabel('time')\n",
        "plt.plot(Ns, time_v1, color='red', label='Book version')\n",
        "plt.plot(Ns, time_v2, color='orange', label='My version')\n",
        "plt.plot(Ns, time_sort, color='blue', label='sort time')\n",
        "plt.legend()\n",
        "plt.show()"
      ],
      "execution_count": 7,
      "outputs": [
        {
          "output_type": "display_data",
          "data": {
            "image/png": "[encoded data removed]",
            "text/plain": [
              "<matplotlib.figure.Figure at 0x7fc3eabce400>"
            ]
          },
          "metadata": {
            "tags": []
          }
        }
      ]
    },
    {
      "metadata": {
        "id": "NL7UWQC-6oQR",
        "colab_type": "code",
        "colab": {}
      },
      "cell_type": "code",
      "source": [
        ""
      ],
      "execution_count": 0,
      "outputs": []
    }
  ]
}